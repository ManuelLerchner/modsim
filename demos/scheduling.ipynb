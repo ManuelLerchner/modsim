{
 "cells": [
  {
   "cell_type": "code",
   "execution_count": 125,
   "metadata": {},
   "outputs": [],
   "source": [
    "jobs=[]\n",
    "\n",
    "# Create some jobs, with their execution_time and predecessors\n",
    "jobs.append({\"name\":'a',\"time\":3,\"predecessors\":[]})\n",
    "jobs.append({\"name\":'b',\"time\":4,\"predecessors\":['a']})\n",
    "jobs.append({\"name\":'c',\"time\":2,\"predecessors\":['a']})\n",
    "jobs.append({\"name\":'d',\"time\":5,\"predecessors\":['b','c']})\n",
    "jobs.append({\"name\":'e',\"time\":1,\"predecessors\":['d']})\n",
    "jobs.append({\"name\":'f',\"time\":2,\"predecessors\":['d']})\n",
    "jobs.append({\"name\":'g',\"time\":3,\"predecessors\":['e','f']})\n",
    "jobs.append({\"name\":'h',\"time\":2,\"predecessors\":['g']})\n",
    "jobs.append({\"name\":'i',\"time\":7,\"predecessors\":['b']})\n",
    "\n",
    "\n",
    "for job in jobs:\n",
    "    job[\"start_time_earliest\"]=None\n",
    "    job[\"end_time_earliest\"]=None\n",
    "    job[\"start_time_latest\"]=None\n",
    "    job[\"end_time_latest\"]=None\n"
   ]
  },
  {
   "cell_type": "code",
   "execution_count": 126,
   "metadata": {},
   "outputs": [],
   "source": [
    "def get_job_by_name(name):\n",
    "    for job in jobs:\n",
    "        if job[\"name\"]==name:\n",
    "            return job\n",
    "        \n",
    "    raise Exception(\"Job not found\")\n",
    "\n",
    "def find_successors(job):\n",
    "    successors=[]\n",
    "    for j in jobs:\n",
    "        if job[\"name\"] in j[\"predecessors\"]:\n",
    "            successors.append(j)\n",
    "            \n",
    "    return successors"
   ]
  },
  {
   "cell_type": "code",
   "execution_count": 127,
   "metadata": {},
   "outputs": [],
   "source": [
    "# add start job, which has no predecessors\n",
    "jobs.append({\"name\":'start',\"time\":0,\"predecessors\":[],\"start_time_earliest\":0,\"end_time_earliest\":0,\"start_time_latest\":0,\"end_time_latest\":0})\n",
    "\n",
    "# every job has start as a predecessor\n",
    "for job in jobs:\n",
    "    job[\"predecessors\"].append('start')\n",
    "\n",
    "# add end job, which has every other job as a predecessor\n",
    "jobs.append({\"name\":'end',\"time\":0,\"predecessors\":[x[\"name\"] for x in jobs ]\n",
    ",\"start_time_earliest\":0,\"end_time_earliest\":0,\"start_time_latest\":0,\"end_time_latest\":0})\n"
   ]
  },
  {
   "cell_type": "code",
   "execution_count": 128,
   "metadata": {},
   "outputs": [
    {
     "name": "stdout",
     "output_type": "stream",
     "text": [
      "{'name': 'a', 'time': 3, 'predecessors': ['start'], 'start_time_earliest': None, 'end_time_earliest': None, 'start_time_latest': None, 'end_time_latest': None}\n",
      "{'name': 'b', 'time': 4, 'predecessors': ['a', 'start'], 'start_time_earliest': None, 'end_time_earliest': None, 'start_time_latest': None, 'end_time_latest': None}\n",
      "{'name': 'c', 'time': 2, 'predecessors': ['a', 'start'], 'start_time_earliest': None, 'end_time_earliest': None, 'start_time_latest': None, 'end_time_latest': None}\n",
      "{'name': 'd', 'time': 5, 'predecessors': ['b', 'c', 'start'], 'start_time_earliest': None, 'end_time_earliest': None, 'start_time_latest': None, 'end_time_latest': None}\n",
      "{'name': 'e', 'time': 1, 'predecessors': ['d', 'start'], 'start_time_earliest': None, 'end_time_earliest': None, 'start_time_latest': None, 'end_time_latest': None}\n",
      "{'name': 'f', 'time': 2, 'predecessors': ['d', 'start'], 'start_time_earliest': None, 'end_time_earliest': None, 'start_time_latest': None, 'end_time_latest': None}\n",
      "{'name': 'g', 'time': 3, 'predecessors': ['e', 'f', 'start'], 'start_time_earliest': None, 'end_time_earliest': None, 'start_time_latest': None, 'end_time_latest': None}\n",
      "{'name': 'h', 'time': 2, 'predecessors': ['g', 'start'], 'start_time_earliest': None, 'end_time_earliest': None, 'start_time_latest': None, 'end_time_latest': None}\n",
      "{'name': 'i', 'time': 7, 'predecessors': ['b', 'start'], 'start_time_earliest': None, 'end_time_earliest': None, 'start_time_latest': None, 'end_time_latest': None}\n",
      "{'name': 'start', 'time': 0, 'predecessors': ['start'], 'start_time_earliest': 0, 'end_time_earliest': 0, 'start_time_latest': 0, 'end_time_latest': 0}\n",
      "{'name': 'end', 'time': 0, 'predecessors': ['a', 'b', 'c', 'd', 'e', 'f', 'g', 'h', 'i', 'start'], 'start_time_earliest': 0, 'end_time_earliest': 0, 'start_time_latest': 0, 'end_time_latest': 0}\n"
     ]
    }
   ],
   "source": [
    "for job in jobs:\n",
    "    print(job)"
   ]
  },
  {
   "cell_type": "code",
   "execution_count": 129,
   "metadata": {},
   "outputs": [],
   "source": [
    "#forward\n",
    "jobs_copy = jobs.copy()\n",
    "processed = [\"start\"]\n",
    "while len(jobs_copy)>0:\n",
    "    #find job where all predecessors are in processed\n",
    "    current_job =list(filter(lambda x: all(elem in processed for elem in x[\"predecessors\"]), jobs_copy))[0]\n",
    "    \n",
    "    predecessors=[get_job_by_name(pred) for pred in current_job['predecessors']]\n",
    "    \n",
    "    # find latest predecessor\n",
    "    latest_p = sorted(predecessors, key=lambda x: x['end_time_earliest'], reverse=True)[0]\n",
    "\n",
    "    # update times\n",
    "    current_job[\"start_time_earliest\"]=latest_p[\"end_time_earliest\"]\n",
    "    current_job[\"end_time_earliest\"]=latest_p[\"end_time_earliest\"]+current_job[\"time\"]\n",
    "\n",
    "    processed.append(current_job[\"name\"])\n",
    "    jobs_copy.remove(current_job)"
   ]
  },
  {
   "cell_type": "code",
   "execution_count": 130,
   "metadata": {},
   "outputs": [],
   "source": [
    "#set time of end job\n",
    "end_job = get_job_by_name(\"end\")\n",
    "end_job[\"start_time_latest\"]=end_job[\"start_time_earliest\"]\n",
    "end_job[\"end_time_latest\"]=end_job[\"end_time_earliest\"]"
   ]
  },
  {
   "cell_type": "code",
   "execution_count": 131,
   "metadata": {},
   "outputs": [],
   "source": [
    "#backward\n",
    "jobs_copy = jobs.copy()\n",
    "\n",
    "#remove end\n",
    "jobs_copy = [x for x in jobs_copy if x[\"name\"]!=\"end\"]\n",
    "\n",
    "processed = [\"end\"]\n",
    "while len(jobs_copy)>0:\n",
    "    #find jobs where all successors are in processed\n",
    "    current_jobs =list(filter(lambda x: all(elem[\"name\"] in processed for elem in find_successors(x)), jobs_copy))\n",
    "\n",
    "    if len(current_jobs)==0:\n",
    "        break\n",
    "    \n",
    "    current_job = current_jobs[0]\n",
    "    successors=find_successors(current_job)\n",
    "\n",
    "    # find successor with earliest start time\n",
    "    earliest_s = sorted(successors, key=lambda x: x['start_time_latest'])[0]\n",
    "\n",
    "    # update times\n",
    "    current_job[\"end_time_latest\"]=earliest_s[\"start_time_latest\"]\n",
    "    current_job[\"start_time_latest\"]=earliest_s[\"start_time_latest\"]-current_job[\"time\"]\n",
    "    \n",
    "    processed.append(current_job[\"name\"])\n",
    "    jobs_copy.remove(current_job)\n"
   ]
  },
  {
   "cell_type": "code",
   "execution_count": 132,
   "metadata": {},
   "outputs": [
    {
     "name": "stdout",
     "output_type": "stream",
     "text": [
      "a\n",
      "     Earliest start: 0\n",
      "     Earliest end: 3\n",
      "     Latest start: 0\n",
      "     Latest end: 3\n",
      "b\n",
      "     Earliest start: 3\n",
      "     Earliest end: 7\n",
      "     Latest start: 3\n",
      "     Latest end: 7\n",
      "c\n",
      "     Earliest start: 3\n",
      "     Earliest end: 5\n",
      "     Latest start: 5\n",
      "     Latest end: 7\n",
      "d\n",
      "     Earliest start: 7\n",
      "     Earliest end: 12\n",
      "     Latest start: 7\n",
      "     Latest end: 12\n",
      "e\n",
      "     Earliest start: 12\n",
      "     Earliest end: 13\n",
      "     Latest start: 13\n",
      "     Latest end: 14\n",
      "f\n",
      "     Earliest start: 12\n",
      "     Earliest end: 14\n",
      "     Latest start: 12\n",
      "     Latest end: 14\n",
      "g\n",
      "     Earliest start: 14\n",
      "     Earliest end: 17\n",
      "     Latest start: 14\n",
      "     Latest end: 17\n",
      "h\n",
      "     Earliest start: 17\n",
      "     Earliest end: 19\n",
      "     Latest start: 17\n",
      "     Latest end: 19\n",
      "i\n",
      "     Earliest start: 7\n",
      "     Earliest end: 14\n",
      "     Latest start: 12\n",
      "     Latest end: 19\n",
      "start\n",
      "     Earliest start: 0\n",
      "     Earliest end: 0\n",
      "     Latest start: 0\n",
      "     Latest end: 0\n",
      "end\n",
      "     Earliest start: 19\n",
      "     Earliest end: 19\n",
      "     Latest start: 19\n",
      "     Latest end: 19\n"
     ]
    }
   ],
   "source": [
    "for job in jobs:\n",
    "    print(job[\"name\"])\n",
    "    print(\"     Earliest start: \"+str(job[\"start_time_earliest\"]))\n",
    "    print(\"     Earliest end: \"+str(job[\"end_time_earliest\"]))\n",
    "    print(\"     Latest start: \"+str(job[\"start_time_latest\"]))\n",
    "    print(\"     Latest end: \"+str(job[\"end_time_latest\"]))"
   ]
  },
  {
   "cell_type": "code",
   "execution_count": 135,
   "metadata": {},
   "outputs": [],
   "source": [
    "critical_path = [x for x in jobs if x[\"start_time_earliest\"]==x[\"start_time_latest\"]]"
   ]
  },
  {
   "cell_type": "code",
   "execution_count": 141,
   "metadata": {},
   "outputs": [
    {
     "name": "stdout",
     "output_type": "stream",
     "text": [
      "Job        Time        |-------------------|\n",
      "\u001b[96ma          earliest    |###----------------|\n",
      "           latest      |###----------------|\n",
      "\u001b[0m\u001b[96mb          earliest    |---####------------|\n",
      "           latest      |---####------------|\n",
      "\u001b[0mc          earliest    |---##--------------|\n",
      "           latest      |-----##------------|\n",
      "\u001b[96md          earliest    |-------#####-------|\n",
      "           latest      |-------#####-------|\n",
      "\u001b[0me          earliest    |------------#------|\n",
      "           latest      |-------------#-----|\n",
      "\u001b[96mf          earliest    |------------##-----|\n",
      "           latest      |------------##-----|\n",
      "\u001b[0m\u001b[96mg          earliest    |--------------###--|\n",
      "           latest      |--------------###--|\n",
      "\u001b[0m\u001b[96mh          earliest    |-----------------##|\n",
      "           latest      |-----------------##|\n",
      "\u001b[0mi          earliest    |-------#######-----|\n",
      "           latest      |------------#######|\n",
      "\u001b[96mstart      earliest    #-------------------|\n",
      "\u001b[0m\u001b[96mend        latest      |-------------------#\n",
      "\u001b[0m"
     ]
    }
   ],
   "source": [
    "#draw ascii graph\n",
    "maxtime=max([x[\"end_time_earliest\"] for x in jobs])\n",
    "print(\"{:<10} {:<12}\".format(\"Job\", \"Time\")+\"|\"+\"-\"*maxtime+\"|\")\n",
    "for job in jobs:\n",
    "    is_critical = job in critical_path\n",
    "\n",
    "    if is_critical:\n",
    "        print(\"\\033[96m\", end=\"\")\n",
    "\n",
    "    if job[\"name\"]==\"start\":\n",
    "        print(\"{:<10} {:<12}\".format(job[\"name\"], \"earliest\")+\"#\"+\"-\"*job[\"start_time_earliest\"]+\"#\"*job[\"time\"]+\"-\"*(maxtime-job[\"end_time_earliest\"])+\"|\")\n",
    "    elif job[\"name\"]==\"end\":\n",
    "        print(\"{:<10} {:<12}\".format(job[\"name\"], \"latest\")+\"|\"+\"-\"*job[\"start_time_latest\"]+\"#\"*job[\"time\"]+\"-\"*(maxtime-job[\"end_time_latest\"])+\"#\")\n",
    "    else:\n",
    "        print(\"{:<10} {:<12}\".format(job[\"name\"], \"earliest\")+\"|\"+\"-\"*job[\"start_time_earliest\"]+\"#\"*job[\"time\"]+\"-\"*(maxtime-job[\"end_time_earliest\"])+\"|\")\n",
    "        print(\"{:<10} {:<12}\".format(\"\", \"latest\")+\"|\"+\"-\"*job[\"start_time_latest\"]+\"#\"*job[\"time\"]+\"-\"*(maxtime-job[\"end_time_latest\"])+\"|\")\n",
    "\n",
    "    if is_critical:\n",
    "        print(\"\\033[0m\", end=\"\")\n"
   ]
  },
  {
   "cell_type": "code",
   "execution_count": 134,
   "metadata": {},
   "outputs": [
    {
     "name": "stdout",
     "output_type": "stream",
     "text": [
      "Critical path: ['a', 'b', 'd', 'f', 'g', 'h', 'start', 'end']\n"
     ]
    }
   ],
   "source": [
    "#critical path\n",
    "\n",
    "\n",
    "print(\"Critical path:\",[x[\"name\"] for x in critical_path])"
   ]
  }
 ],
 "metadata": {
  "kernelspec": {
   "display_name": "Python 3",
   "language": "python",
   "name": "python3"
  },
  "language_info": {
   "codemirror_mode": {
    "name": "ipython",
    "version": 3
   },
   "file_extension": ".py",
   "mimetype": "text/x-python",
   "name": "python",
   "nbconvert_exporter": "python",
   "pygments_lexer": "ipython3",
   "version": "3.11.3"
  },
  "orig_nbformat": 4
 },
 "nbformat": 4,
 "nbformat_minor": 2
}
